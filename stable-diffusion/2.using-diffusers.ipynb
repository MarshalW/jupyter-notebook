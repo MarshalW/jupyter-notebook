{
 "cells": [
  {
   "cell_type": "markdown",
   "id": "40dbe76a-ea32-4897-b219-ec6cb148cb99",
   "metadata": {},
   "source": [
    "# 使用 diffusers\n",
    "\n",
    "写程序，通过 [huggingface diffusers](https://huggingface.co/docs/diffusers/index) 库，调用图像生成模型。\n",
    "\n",
    "这里为了简化，暂时不使用 Stable Diffusion 模型。\n",
    "\n",
    "本文参考 https://colab.research.google.com/github/huggingface/notebooks/blob/main/diffusers/diffusers_intro.ipynb"
   ]
  },
  {
   "cell_type": "markdown",
   "id": "450ccf98-2e0a-42ca-a7c7-3ca7e82a2983",
   "metadata": {},
   "source": [
    "## 使用 pipeline"
   ]
  }
 ],
 "metadata": {
  "kernelspec": {
   "display_name": "Python 3 (ipykernel)",
   "language": "python",
   "name": "python3"
  },
  "language_info": {
   "codemirror_mode": {
    "name": "ipython",
    "version": 3
   },
   "file_extension": ".py",
   "mimetype": "text/x-python",
   "name": "python",
   "nbconvert_exporter": "python",
   "pygments_lexer": "ipython3",
   "version": "3.10.12"
  }
 },
 "nbformat": 4,
 "nbformat_minor": 5
}
